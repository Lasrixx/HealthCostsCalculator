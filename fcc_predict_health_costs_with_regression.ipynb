{
  "nbformat": 4,
  "nbformat_minor": 0,
  "metadata": {
    "colab": {
      "name": "fcc_predict_health_costs_with_regression.ipynb",
      "provenance": [],
      "collapsed_sections": [],
      "toc_visible": true,
      "include_colab_link": true
    },
    "kernelspec": {
      "display_name": "Python 3",
      "name": "python3"
    },
    "accelerator": "GPU",
    "gpuClass": "standard"
  },
  "cells": [
    {
      "cell_type": "markdown",
      "metadata": {
        "id": "view-in-github",
        "colab_type": "text"
      },
      "source": [
        "<a href=\"https://colab.research.google.com/github/Lasrixx/HealthCostsCalculator/blob/main/fcc_predict_health_costs_with_regression.ipynb\" target=\"_parent\"><img src=\"https://colab.research.google.com/assets/colab-badge.svg\" alt=\"Open In Colab\"/></a>"
      ]
    },
    {
      "cell_type": "markdown",
      "metadata": {
        "id": "M9TX15KOkPBV"
      },
      "source": [
        "*Note: You are currently reading this using Google Colaboratory which is a cloud-hosted version of Jupyter Notebook. This is a document containing both text cells for documentation and runnable code cells. If you are unfamiliar with Jupyter Notebook, watch this 3-minute introduction before starting this challenge: https://www.youtube.com/watch?v=inN8seMm7UI*\n",
        "\n",
        "---\n",
        "\n",
        "In this challenge, you will predict healthcare costs using a regression algorithm.\n",
        "\n",
        "You are given a dataset that contains information about different people including their healthcare costs. Use the data to predict healthcare costs based on new data.\n",
        "\n",
        "The first two cells of this notebook import libraries and the data.\n",
        "\n",
        "Make sure to convert categorical data to numbers. Use 80% of the data as the `train_dataset` and 20% of the data as the `test_dataset`.\n",
        "\n",
        "`pop` off the \"expenses\" column from these datasets to create new datasets called `train_labels` and `test_labels`. Use these labels when training your model.\n",
        "\n",
        "Create a model and train it with the `train_dataset`. Run the final cell in this notebook to check your model. The final cell will use the unseen `test_dataset` to check how well the model generalizes.\n",
        "\n",
        "To pass the challenge, `model.evaluate` must return a Mean Absolute Error of under 3500. This means it predicts health care costs correctly within $3500.\n",
        "\n",
        "The final cell will also predict expenses using the `test_dataset` and graph the results."
      ]
    },
    {
      "cell_type": "code",
      "metadata": {
        "id": "1rRo8oNqZ-Rj"
      },
      "source": [
        "# Import libraries. You may or may not use all of these.\n",
        "!pip install -q git+https://github.com/tensorflow/docs\n",
        "import matplotlib.pyplot as plt\n",
        "import numpy as np\n",
        "import pandas as pd\n",
        "\n",
        "try:\n",
        "  # %tensorflow_version only exists in Colab.\n",
        "  %tensorflow_version 2.x\n",
        "except Exception:\n",
        "  pass\n",
        "import tensorflow as tf\n",
        "\n",
        "from tensorflow import keras\n",
        "from tensorflow.keras import layers\n",
        "from tensorflow.keras.layers.experimental import preprocessing\n",
        "\n",
        "#import tensorflow_docs as tfdocs\n",
        "#import tensorflow_docs.plots\n",
        "#import tensorflow_docs.modeling"
      ],
      "execution_count": null,
      "outputs": []
    },
    {
      "cell_type": "code",
      "metadata": {
        "id": "CiX2FI4gZtTt",
        "colab": {
          "base_uri": "https://localhost:8080/",
          "height": 397
        },
        "outputId": "f69873cb-0726-4c17-d391-ecdf6252804e"
      },
      "source": [
        "# Import data\n",
        "!wget https://cdn.freecodecamp.org/project-data/health-costs/insurance.csv\n",
        "dataset = pd.read_csv('insurance.csv')\n",
        "dataset.tail()"
      ],
      "execution_count": 2,
      "outputs": [
        {
          "output_type": "stream",
          "name": "stdout",
          "text": [
            "--2022-08-17 10:34:22--  https://cdn.freecodecamp.org/project-data/health-costs/insurance.csv\n",
            "Resolving cdn.freecodecamp.org (cdn.freecodecamp.org)... 104.26.3.33, 104.26.2.33, 172.67.70.149, ...\n",
            "Connecting to cdn.freecodecamp.org (cdn.freecodecamp.org)|104.26.3.33|:443... connected.\n",
            "HTTP request sent, awaiting response... 200 OK\n",
            "Length: 50264 (49K) [text/csv]\n",
            "Saving to: ‘insurance.csv’\n",
            "\n",
            "\rinsurance.csv         0%[                    ]       0  --.-KB/s               \rinsurance.csv       100%[===================>]  49.09K  --.-KB/s    in 0s      \n",
            "\n",
            "2022-08-17 10:34:22 (143 MB/s) - ‘insurance.csv’ saved [50264/50264]\n",
            "\n"
          ]
        },
        {
          "output_type": "execute_result",
          "data": {
            "text/plain": [
              "      age     sex   bmi  children smoker     region  expenses\n",
              "1333   50    male  31.0         3     no  northwest  10600.55\n",
              "1334   18  female  31.9         0     no  northeast   2205.98\n",
              "1335   18  female  36.9         0     no  southeast   1629.83\n",
              "1336   21  female  25.8         0     no  southwest   2007.95\n",
              "1337   61  female  29.1         0    yes  northwest  29141.36"
            ],
            "text/html": [
              "\n",
              "  <div id=\"df-3d39318d-6baf-49fa-b857-bb044becec0a\">\n",
              "    <div class=\"colab-df-container\">\n",
              "      <div>\n",
              "<style scoped>\n",
              "    .dataframe tbody tr th:only-of-type {\n",
              "        vertical-align: middle;\n",
              "    }\n",
              "\n",
              "    .dataframe tbody tr th {\n",
              "        vertical-align: top;\n",
              "    }\n",
              "\n",
              "    .dataframe thead th {\n",
              "        text-align: right;\n",
              "    }\n",
              "</style>\n",
              "<table border=\"1\" class=\"dataframe\">\n",
              "  <thead>\n",
              "    <tr style=\"text-align: right;\">\n",
              "      <th></th>\n",
              "      <th>age</th>\n",
              "      <th>sex</th>\n",
              "      <th>bmi</th>\n",
              "      <th>children</th>\n",
              "      <th>smoker</th>\n",
              "      <th>region</th>\n",
              "      <th>expenses</th>\n",
              "    </tr>\n",
              "  </thead>\n",
              "  <tbody>\n",
              "    <tr>\n",
              "      <th>1333</th>\n",
              "      <td>50</td>\n",
              "      <td>male</td>\n",
              "      <td>31.0</td>\n",
              "      <td>3</td>\n",
              "      <td>no</td>\n",
              "      <td>northwest</td>\n",
              "      <td>10600.55</td>\n",
              "    </tr>\n",
              "    <tr>\n",
              "      <th>1334</th>\n",
              "      <td>18</td>\n",
              "      <td>female</td>\n",
              "      <td>31.9</td>\n",
              "      <td>0</td>\n",
              "      <td>no</td>\n",
              "      <td>northeast</td>\n",
              "      <td>2205.98</td>\n",
              "    </tr>\n",
              "    <tr>\n",
              "      <th>1335</th>\n",
              "      <td>18</td>\n",
              "      <td>female</td>\n",
              "      <td>36.9</td>\n",
              "      <td>0</td>\n",
              "      <td>no</td>\n",
              "      <td>southeast</td>\n",
              "      <td>1629.83</td>\n",
              "    </tr>\n",
              "    <tr>\n",
              "      <th>1336</th>\n",
              "      <td>21</td>\n",
              "      <td>female</td>\n",
              "      <td>25.8</td>\n",
              "      <td>0</td>\n",
              "      <td>no</td>\n",
              "      <td>southwest</td>\n",
              "      <td>2007.95</td>\n",
              "    </tr>\n",
              "    <tr>\n",
              "      <th>1337</th>\n",
              "      <td>61</td>\n",
              "      <td>female</td>\n",
              "      <td>29.1</td>\n",
              "      <td>0</td>\n",
              "      <td>yes</td>\n",
              "      <td>northwest</td>\n",
              "      <td>29141.36</td>\n",
              "    </tr>\n",
              "  </tbody>\n",
              "</table>\n",
              "</div>\n",
              "      <button class=\"colab-df-convert\" onclick=\"convertToInteractive('df-3d39318d-6baf-49fa-b857-bb044becec0a')\"\n",
              "              title=\"Convert this dataframe to an interactive table.\"\n",
              "              style=\"display:none;\">\n",
              "        \n",
              "  <svg xmlns=\"http://www.w3.org/2000/svg\" height=\"24px\"viewBox=\"0 0 24 24\"\n",
              "       width=\"24px\">\n",
              "    <path d=\"M0 0h24v24H0V0z\" fill=\"none\"/>\n",
              "    <path d=\"M18.56 5.44l.94 2.06.94-2.06 2.06-.94-2.06-.94-.94-2.06-.94 2.06-2.06.94zm-11 1L8.5 8.5l.94-2.06 2.06-.94-2.06-.94L8.5 2.5l-.94 2.06-2.06.94zm10 10l.94 2.06.94-2.06 2.06-.94-2.06-.94-.94-2.06-.94 2.06-2.06.94z\"/><path d=\"M17.41 7.96l-1.37-1.37c-.4-.4-.92-.59-1.43-.59-.52 0-1.04.2-1.43.59L10.3 9.45l-7.72 7.72c-.78.78-.78 2.05 0 2.83L4 21.41c.39.39.9.59 1.41.59.51 0 1.02-.2 1.41-.59l7.78-7.78 2.81-2.81c.8-.78.8-2.07 0-2.86zM5.41 20L4 18.59l7.72-7.72 1.47 1.35L5.41 20z\"/>\n",
              "  </svg>\n",
              "      </button>\n",
              "      \n",
              "  <style>\n",
              "    .colab-df-container {\n",
              "      display:flex;\n",
              "      flex-wrap:wrap;\n",
              "      gap: 12px;\n",
              "    }\n",
              "\n",
              "    .colab-df-convert {\n",
              "      background-color: #E8F0FE;\n",
              "      border: none;\n",
              "      border-radius: 50%;\n",
              "      cursor: pointer;\n",
              "      display: none;\n",
              "      fill: #1967D2;\n",
              "      height: 32px;\n",
              "      padding: 0 0 0 0;\n",
              "      width: 32px;\n",
              "    }\n",
              "\n",
              "    .colab-df-convert:hover {\n",
              "      background-color: #E2EBFA;\n",
              "      box-shadow: 0px 1px 2px rgba(60, 64, 67, 0.3), 0px 1px 3px 1px rgba(60, 64, 67, 0.15);\n",
              "      fill: #174EA6;\n",
              "    }\n",
              "\n",
              "    [theme=dark] .colab-df-convert {\n",
              "      background-color: #3B4455;\n",
              "      fill: #D2E3FC;\n",
              "    }\n",
              "\n",
              "    [theme=dark] .colab-df-convert:hover {\n",
              "      background-color: #434B5C;\n",
              "      box-shadow: 0px 1px 3px 1px rgba(0, 0, 0, 0.15);\n",
              "      filter: drop-shadow(0px 1px 2px rgba(0, 0, 0, 0.3));\n",
              "      fill: #FFFFFF;\n",
              "    }\n",
              "  </style>\n",
              "\n",
              "      <script>\n",
              "        const buttonEl =\n",
              "          document.querySelector('#df-3d39318d-6baf-49fa-b857-bb044becec0a button.colab-df-convert');\n",
              "        buttonEl.style.display =\n",
              "          google.colab.kernel.accessAllowed ? 'block' : 'none';\n",
              "\n",
              "        async function convertToInteractive(key) {\n",
              "          const element = document.querySelector('#df-3d39318d-6baf-49fa-b857-bb044becec0a');\n",
              "          const dataTable =\n",
              "            await google.colab.kernel.invokeFunction('convertToInteractive',\n",
              "                                                     [key], {});\n",
              "          if (!dataTable) return;\n",
              "\n",
              "          const docLinkHtml = 'Like what you see? Visit the ' +\n",
              "            '<a target=\"_blank\" href=https://colab.research.google.com/notebooks/data_table.ipynb>data table notebook</a>'\n",
              "            + ' to learn more about interactive tables.';\n",
              "          element.innerHTML = '';\n",
              "          dataTable['output_type'] = 'display_data';\n",
              "          await google.colab.output.renderOutput(dataTable, element);\n",
              "          const docLink = document.createElement('div');\n",
              "          docLink.innerHTML = docLinkHtml;\n",
              "          element.appendChild(docLink);\n",
              "        }\n",
              "      </script>\n",
              "    </div>\n",
              "  </div>\n",
              "  "
            ]
          },
          "metadata": {},
          "execution_count": 2
        }
      ]
    },
    {
      "cell_type": "code",
      "source": [
        "# Convert categorical data to numeric\n",
        "CATEGORICAL_COLUMNS = ['sex', 'smoker', 'region']\n",
        "\n",
        "for column in CATEGORICAL_COLUMNS:\n",
        "  dataset[column] = dataset[column].astype('category').cat.codes"
      ],
      "metadata": {
        "id": "GbZlsbyuQLmX"
      },
      "execution_count": 3,
      "outputs": []
    },
    {
      "cell_type": "code",
      "source": [
        "# Split into training and testing data\n",
        "test_dataset = dataset.sample(frac=0.2)\n",
        "train_df = dataset[~dataset.isin(test_dataset)].dropna()"
      ],
      "metadata": {
        "id": "4sbzP-GXMeTz"
      },
      "execution_count": 4,
      "outputs": []
    },
    {
      "cell_type": "code",
      "source": [
        "# Pop expenses column from both datasets\n",
        "train_labels = train_df.pop('expenses')\n",
        "test_labels = test_dataset.pop('expenses')"
      ],
      "metadata": {
        "id": "aeEqzjQUMrzY"
      },
      "execution_count": 5,
      "outputs": []
    },
    {
      "cell_type": "code",
      "source": [
        "# Normalise data\n",
        "normalizer = layers.experimental.preprocessing.Normalization(axis=-1)\n",
        "normalizer.adapt(np.array(train_df))"
      ],
      "metadata": {
        "id": "0nTQruvJRftT"
      },
      "execution_count": 6,
      "outputs": []
    },
    {
      "cell_type": "code",
      "source": [
        "# Create model\n",
        "model = tf.keras.Sequential([\n",
        "    normalizer,\n",
        "    layers.Dense(2),\n",
        "    layers.Dropout(0.01),\n",
        "    layers.Dense(1)\n",
        "])\n",
        "\n",
        "model.summary()"
      ],
      "metadata": {
        "id": "K098WZv1DMXc",
        "colab": {
          "base_uri": "https://localhost:8080/"
        },
        "outputId": "dbf78dd4-d7ec-43ba-d680-4e6f6d52b81e"
      },
      "execution_count": 9,
      "outputs": [
        {
          "output_type": "stream",
          "name": "stdout",
          "text": [
            "Model: \"sequential_1\"\n",
            "_________________________________________________________________\n",
            " Layer (type)                Output Shape              Param #   \n",
            "=================================================================\n",
            " normalization (Normalizatio  (None, 6)                13        \n",
            " n)                                                              \n",
            "                                                                 \n",
            " dense_2 (Dense)             (None, 2)                 14        \n",
            "                                                                 \n",
            " dropout_1 (Dropout)         (None, 2)                 0         \n",
            "                                                                 \n",
            " dense_3 (Dense)             (None, 1)                 3         \n",
            "                                                                 \n",
            "=================================================================\n",
            "Total params: 30\n",
            "Trainable params: 17\n",
            "Non-trainable params: 13\n",
            "_________________________________________________________________\n"
          ]
        }
      ]
    },
    {
      "cell_type": "code",
      "source": [
        "# Compile model\n",
        "model.compile(\n",
        "    optimizer=tf.keras.optimizers.Adam(learning_rate=0.1),\n",
        "    loss='mae',\n",
        "    metrics=['mae','mse'])"
      ],
      "metadata": {
        "id": "fDzPDKiSSH87"
      },
      "execution_count": 10,
      "outputs": []
    },
    {
      "cell_type": "code",
      "source": [
        "# Train model\n",
        "history = model.fit(\n",
        "    train_df,\n",
        "    train_labels,\n",
        "    epochs=100,\n",
        "    validation_split = 0.2)"
      ],
      "metadata": {
        "id": "QDk14NF6DNoq",
        "colab": {
          "base_uri": "https://localhost:8080/"
        },
        "outputId": "275805d0-9f36-426e-a494-6ad67973e386"
      },
      "execution_count": 12,
      "outputs": [
        {
          "output_type": "stream",
          "name": "stdout",
          "text": [
            "Epoch 1/100\n",
            "27/27 [==============================] - 0s 10ms/step - loss: 3529.2603 - mae: 3529.2603 - mse: 50095040.0000 - val_loss: 3819.3977 - val_mae: 3819.3977 - val_mse: 49438728.0000\n",
            "Epoch 2/100\n",
            "27/27 [==============================] - 0s 9ms/step - loss: 3566.2944 - mae: 3566.2944 - mse: 50713884.0000 - val_loss: 3810.5198 - val_mae: 3810.5198 - val_mse: 49804872.0000\n",
            "Epoch 3/100\n",
            "27/27 [==============================] - 0s 7ms/step - loss: 3489.9783 - mae: 3489.9783 - mse: 48561532.0000 - val_loss: 3810.5547 - val_mae: 3810.5547 - val_mse: 49978488.0000\n",
            "Epoch 4/100\n",
            "27/27 [==============================] - 0s 8ms/step - loss: 3455.4214 - mae: 3455.4214 - mse: 48471968.0000 - val_loss: 3810.3943 - val_mae: 3810.3943 - val_mse: 50215000.0000\n",
            "Epoch 5/100\n",
            "27/27 [==============================] - 0s 6ms/step - loss: 3488.8174 - mae: 3488.8174 - mse: 48934040.0000 - val_loss: 3806.4072 - val_mae: 3806.4072 - val_mse: 49913908.0000\n",
            "Epoch 6/100\n",
            "27/27 [==============================] - 0s 7ms/step - loss: 3462.6946 - mae: 3462.6946 - mse: 48354820.0000 - val_loss: 3814.7688 - val_mae: 3814.7688 - val_mse: 49919764.0000\n",
            "Epoch 7/100\n",
            "27/27 [==============================] - 0s 7ms/step - loss: 3413.0991 - mae: 3413.0991 - mse: 47449152.0000 - val_loss: 3804.8870 - val_mae: 3804.8870 - val_mse: 49964396.0000\n",
            "Epoch 8/100\n",
            "27/27 [==============================] - 0s 9ms/step - loss: 3484.4153 - mae: 3484.4153 - mse: 49215196.0000 - val_loss: 3810.8242 - val_mae: 3810.8242 - val_mse: 50216604.0000\n",
            "Epoch 9/100\n",
            "27/27 [==============================] - 0s 5ms/step - loss: 3426.9690 - mae: 3426.9690 - mse: 47868260.0000 - val_loss: 3810.2781 - val_mae: 3810.2781 - val_mse: 50317916.0000\n",
            "Epoch 10/100\n",
            "27/27 [==============================] - 0s 4ms/step - loss: 3465.7339 - mae: 3465.7339 - mse: 48748656.0000 - val_loss: 3810.1296 - val_mae: 3810.1296 - val_mse: 50301864.0000\n",
            "Epoch 11/100\n",
            "27/27 [==============================] - 0s 4ms/step - loss: 3580.5278 - mae: 3580.5278 - mse: 52071848.0000 - val_loss: 3812.8462 - val_mae: 3812.8457 - val_mse: 50116664.0000\n",
            "Epoch 12/100\n",
            "27/27 [==============================] - 0s 4ms/step - loss: 3466.3962 - mae: 3466.3962 - mse: 49006472.0000 - val_loss: 3804.1321 - val_mae: 3804.1321 - val_mse: 50237052.0000\n",
            "Epoch 13/100\n",
            "27/27 [==============================] - 0s 4ms/step - loss: 3476.3496 - mae: 3476.3496 - mse: 49098944.0000 - val_loss: 3806.2336 - val_mae: 3806.2336 - val_mse: 50262352.0000\n",
            "Epoch 14/100\n",
            "27/27 [==============================] - 0s 4ms/step - loss: 3424.1589 - mae: 3424.1589 - mse: 47937608.0000 - val_loss: 3812.9294 - val_mae: 3812.9294 - val_mse: 49979168.0000\n",
            "Epoch 15/100\n",
            "27/27 [==============================] - 0s 4ms/step - loss: 3442.1975 - mae: 3442.1975 - mse: 47706324.0000 - val_loss: 3804.5750 - val_mae: 3804.5750 - val_mse: 50059656.0000\n",
            "Epoch 16/100\n",
            "27/27 [==============================] - 0s 4ms/step - loss: 3442.4302 - mae: 3442.4302 - mse: 48439800.0000 - val_loss: 3807.7397 - val_mae: 3807.7395 - val_mse: 50649348.0000\n",
            "Epoch 17/100\n",
            "27/27 [==============================] - 0s 4ms/step - loss: 3519.2546 - mae: 3519.2546 - mse: 49902596.0000 - val_loss: 3808.7490 - val_mae: 3808.7490 - val_mse: 50220472.0000\n",
            "Epoch 18/100\n",
            "27/27 [==============================] - 0s 4ms/step - loss: 3470.6633 - mae: 3470.6633 - mse: 48606264.0000 - val_loss: 3820.9431 - val_mae: 3820.9431 - val_mse: 50299488.0000\n",
            "Epoch 19/100\n",
            "27/27 [==============================] - 0s 4ms/step - loss: 3512.1008 - mae: 3512.1008 - mse: 49326768.0000 - val_loss: 3818.4819 - val_mae: 3818.4819 - val_mse: 49935656.0000\n",
            "Epoch 20/100\n",
            "27/27 [==============================] - 0s 4ms/step - loss: 3532.1306 - mae: 3532.1306 - mse: 49319784.0000 - val_loss: 3819.2988 - val_mae: 3819.2988 - val_mse: 49842020.0000\n",
            "Epoch 21/100\n",
            "27/27 [==============================] - 0s 4ms/step - loss: 3490.4980 - mae: 3490.4980 - mse: 49502256.0000 - val_loss: 3812.1631 - val_mae: 3812.1631 - val_mse: 50436392.0000\n",
            "Epoch 22/100\n",
            "27/27 [==============================] - 0s 4ms/step - loss: 3497.3628 - mae: 3497.3628 - mse: 50249652.0000 - val_loss: 3808.6433 - val_mae: 3808.6433 - val_mse: 50316532.0000\n",
            "Epoch 23/100\n",
            "27/27 [==============================] - 0s 4ms/step - loss: 3454.3035 - mae: 3454.3035 - mse: 48547572.0000 - val_loss: 3810.4602 - val_mae: 3810.4602 - val_mse: 50176344.0000\n",
            "Epoch 24/100\n",
            "27/27 [==============================] - 0s 4ms/step - loss: 3502.4224 - mae: 3502.4224 - mse: 49188480.0000 - val_loss: 3809.8745 - val_mae: 3809.8745 - val_mse: 50083700.0000\n",
            "Epoch 25/100\n",
            "27/27 [==============================] - 0s 4ms/step - loss: 3544.5649 - mae: 3544.5649 - mse: 50480856.0000 - val_loss: 3816.2097 - val_mae: 3816.2097 - val_mse: 50218364.0000\n",
            "Epoch 26/100\n",
            "27/27 [==============================] - 0s 4ms/step - loss: 3535.4573 - mae: 3535.4573 - mse: 50010916.0000 - val_loss: 3801.6279 - val_mae: 3801.6279 - val_mse: 50265472.0000\n",
            "Epoch 27/100\n",
            "27/27 [==============================] - 0s 4ms/step - loss: 3574.5085 - mae: 3574.5085 - mse: 50328312.0000 - val_loss: 3817.6384 - val_mae: 3817.6384 - val_mse: 50104924.0000\n",
            "Epoch 28/100\n",
            "27/27 [==============================] - 0s 4ms/step - loss: 3428.1375 - mae: 3428.1375 - mse: 47692120.0000 - val_loss: 3808.3120 - val_mae: 3808.3123 - val_mse: 50233248.0000\n",
            "Epoch 29/100\n",
            "27/27 [==============================] - 0s 4ms/step - loss: 3477.7610 - mae: 3477.7610 - mse: 49272352.0000 - val_loss: 3811.1255 - val_mae: 3811.1255 - val_mse: 50611696.0000\n",
            "Epoch 30/100\n",
            "27/27 [==============================] - 0s 4ms/step - loss: 3452.9456 - mae: 3452.9456 - mse: 48456608.0000 - val_loss: 3809.6492 - val_mae: 3809.6492 - val_mse: 50361432.0000\n",
            "Epoch 31/100\n",
            "27/27 [==============================] - 0s 4ms/step - loss: 3436.9299 - mae: 3436.9299 - mse: 48110720.0000 - val_loss: 3812.9836 - val_mae: 3812.9836 - val_mse: 50365448.0000\n",
            "Epoch 32/100\n",
            "27/27 [==============================] - 0s 4ms/step - loss: 3560.4021 - mae: 3560.4021 - mse: 51496672.0000 - val_loss: 3812.2605 - val_mae: 3812.2605 - val_mse: 50139432.0000\n",
            "Epoch 33/100\n",
            "27/27 [==============================] - 0s 5ms/step - loss: 3488.0576 - mae: 3488.0576 - mse: 49141288.0000 - val_loss: 3817.5635 - val_mae: 3817.5635 - val_mse: 49847524.0000\n",
            "Epoch 34/100\n",
            "27/27 [==============================] - 0s 4ms/step - loss: 3522.5046 - mae: 3522.5046 - mse: 50111148.0000 - val_loss: 3804.1609 - val_mae: 3804.1609 - val_mse: 50360224.0000\n",
            "Epoch 35/100\n",
            "27/27 [==============================] - 0s 4ms/step - loss: 3461.7678 - mae: 3461.7678 - mse: 49254376.0000 - val_loss: 3809.4548 - val_mae: 3809.4548 - val_mse: 50284416.0000\n",
            "Epoch 36/100\n",
            "27/27 [==============================] - 0s 4ms/step - loss: 3457.9766 - mae: 3457.9766 - mse: 48492516.0000 - val_loss: 3805.1506 - val_mae: 3805.1506 - val_mse: 50157476.0000\n",
            "Epoch 37/100\n",
            "27/27 [==============================] - 0s 4ms/step - loss: 3495.3792 - mae: 3495.3792 - mse: 49045768.0000 - val_loss: 3805.7605 - val_mae: 3805.7605 - val_mse: 50161152.0000\n",
            "Epoch 38/100\n",
            "27/27 [==============================] - 0s 4ms/step - loss: 3516.3169 - mae: 3516.3169 - mse: 50311068.0000 - val_loss: 3819.9553 - val_mae: 3819.9553 - val_mse: 50187504.0000\n",
            "Epoch 39/100\n",
            "27/27 [==============================] - 0s 4ms/step - loss: 3423.3254 - mae: 3423.3254 - mse: 47266716.0000 - val_loss: 3814.6011 - val_mae: 3814.6011 - val_mse: 49656536.0000\n",
            "Epoch 40/100\n",
            "27/27 [==============================] - 0s 5ms/step - loss: 3469.8230 - mae: 3469.8230 - mse: 48349224.0000 - val_loss: 3816.1587 - val_mae: 3816.1587 - val_mse: 50004476.0000\n",
            "Epoch 41/100\n",
            "27/27 [==============================] - 0s 4ms/step - loss: 3481.2485 - mae: 3481.2485 - mse: 49832384.0000 - val_loss: 3803.8232 - val_mae: 3803.8232 - val_mse: 50286716.0000\n",
            "Epoch 42/100\n",
            "27/27 [==============================] - 0s 4ms/step - loss: 3416.9060 - mae: 3416.9060 - mse: 47826020.0000 - val_loss: 3815.7185 - val_mae: 3815.7185 - val_mse: 50317072.0000\n",
            "Epoch 43/100\n",
            "27/27 [==============================] - 0s 4ms/step - loss: 3509.5801 - mae: 3509.5801 - mse: 49450796.0000 - val_loss: 3806.2175 - val_mae: 3806.2173 - val_mse: 50306368.0000\n",
            "Epoch 44/100\n",
            "27/27 [==============================] - 0s 4ms/step - loss: 3492.6089 - mae: 3492.6089 - mse: 48747620.0000 - val_loss: 3810.0833 - val_mae: 3810.0833 - val_mse: 50135404.0000\n",
            "Epoch 45/100\n",
            "27/27 [==============================] - 0s 4ms/step - loss: 3480.4919 - mae: 3480.4919 - mse: 49307080.0000 - val_loss: 3809.3625 - val_mae: 3809.3625 - val_mse: 50031812.0000\n",
            "Epoch 46/100\n",
            "27/27 [==============================] - 0s 4ms/step - loss: 3453.8511 - mae: 3453.8511 - mse: 48470560.0000 - val_loss: 3815.5103 - val_mae: 3815.5103 - val_mse: 50291356.0000\n",
            "Epoch 47/100\n",
            "27/27 [==============================] - 0s 4ms/step - loss: 3438.8406 - mae: 3438.8406 - mse: 47812852.0000 - val_loss: 3806.8342 - val_mae: 3806.8342 - val_mse: 50058564.0000\n",
            "Epoch 48/100\n",
            "27/27 [==============================] - 0s 4ms/step - loss: 3504.6982 - mae: 3504.6982 - mse: 49714972.0000 - val_loss: 3816.3406 - val_mae: 3816.3406 - val_mse: 50278880.0000\n",
            "Epoch 49/100\n",
            "27/27 [==============================] - 0s 4ms/step - loss: 3472.0967 - mae: 3472.0967 - mse: 48211472.0000 - val_loss: 3814.0532 - val_mae: 3814.0532 - val_mse: 49867144.0000\n",
            "Epoch 50/100\n",
            "27/27 [==============================] - 0s 4ms/step - loss: 3486.6423 - mae: 3486.6423 - mse: 49001476.0000 - val_loss: 3811.4060 - val_mae: 3811.4060 - val_mse: 50103684.0000\n",
            "Epoch 51/100\n",
            "27/27 [==============================] - 0s 4ms/step - loss: 3525.1204 - mae: 3525.1204 - mse: 49394996.0000 - val_loss: 3815.7644 - val_mae: 3815.7644 - val_mse: 50020128.0000\n",
            "Epoch 52/100\n",
            "27/27 [==============================] - 0s 4ms/step - loss: 3449.8789 - mae: 3449.8789 - mse: 47999040.0000 - val_loss: 3820.8752 - val_mae: 3820.8752 - val_mse: 49837468.0000\n",
            "Epoch 53/100\n",
            "27/27 [==============================] - 0s 4ms/step - loss: 3432.1230 - mae: 3432.1230 - mse: 48521444.0000 - val_loss: 3812.5415 - val_mae: 3812.5415 - val_mse: 50340760.0000\n",
            "Epoch 54/100\n",
            "27/27 [==============================] - 0s 4ms/step - loss: 3503.2576 - mae: 3503.2576 - mse: 50326388.0000 - val_loss: 3811.9937 - val_mae: 3811.9937 - val_mse: 50378948.0000\n",
            "Epoch 55/100\n",
            "27/27 [==============================] - 0s 4ms/step - loss: 3522.6072 - mae: 3522.6072 - mse: 48946548.0000 - val_loss: 3806.8120 - val_mae: 3806.8120 - val_mse: 49713248.0000\n",
            "Epoch 56/100\n",
            "27/27 [==============================] - 0s 4ms/step - loss: 3529.8708 - mae: 3529.8708 - mse: 49098416.0000 - val_loss: 3809.8279 - val_mae: 3809.8279 - val_mse: 50108596.0000\n",
            "Epoch 57/100\n",
            "27/27 [==============================] - 0s 4ms/step - loss: 3483.6755 - mae: 3483.6755 - mse: 49375876.0000 - val_loss: 3811.3750 - val_mae: 3811.3750 - val_mse: 50112512.0000\n",
            "Epoch 58/100\n",
            "27/27 [==============================] - 0s 4ms/step - loss: 3478.7593 - mae: 3478.7593 - mse: 48633204.0000 - val_loss: 3804.7620 - val_mae: 3804.7620 - val_mse: 50013016.0000\n",
            "Epoch 59/100\n",
            "27/27 [==============================] - 0s 4ms/step - loss: 3458.5842 - mae: 3458.5842 - mse: 47979592.0000 - val_loss: 3816.4805 - val_mae: 3816.4805 - val_mse: 50247320.0000\n",
            "Epoch 60/100\n",
            "27/27 [==============================] - 0s 4ms/step - loss: 3588.2192 - mae: 3588.2192 - mse: 51416352.0000 - val_loss: 3808.6741 - val_mae: 3808.6741 - val_mse: 50416544.0000\n",
            "Epoch 61/100\n",
            "27/27 [==============================] - 0s 4ms/step - loss: 3511.8022 - mae: 3511.8022 - mse: 51227992.0000 - val_loss: 3816.3738 - val_mae: 3816.3738 - val_mse: 50103496.0000\n",
            "Epoch 62/100\n",
            "27/27 [==============================] - 0s 4ms/step - loss: 3517.7532 - mae: 3517.7532 - mse: 49606512.0000 - val_loss: 3814.3533 - val_mae: 3814.3533 - val_mse: 49998736.0000\n",
            "Epoch 63/100\n",
            "27/27 [==============================] - 0s 4ms/step - loss: 3442.1311 - mae: 3442.1311 - mse: 48369532.0000 - val_loss: 3817.7571 - val_mae: 3817.7571 - val_mse: 49755184.0000\n",
            "Epoch 64/100\n",
            "27/27 [==============================] - 0s 4ms/step - loss: 3496.7056 - mae: 3496.7056 - mse: 48692452.0000 - val_loss: 3819.8984 - val_mae: 3819.8984 - val_mse: 49901100.0000\n",
            "Epoch 65/100\n",
            "27/27 [==============================] - 0s 4ms/step - loss: 3466.8457 - mae: 3466.8457 - mse: 48601496.0000 - val_loss: 3806.1011 - val_mae: 3806.1011 - val_mse: 50138896.0000\n",
            "Epoch 66/100\n",
            "27/27 [==============================] - 0s 4ms/step - loss: 3531.3672 - mae: 3531.3672 - mse: 49898320.0000 - val_loss: 3816.3179 - val_mae: 3816.3179 - val_mse: 49951208.0000\n",
            "Epoch 67/100\n",
            "27/27 [==============================] - 0s 4ms/step - loss: 3374.8655 - mae: 3374.8655 - mse: 47251304.0000 - val_loss: 3807.7737 - val_mae: 3807.7737 - val_mse: 50057320.0000\n",
            "Epoch 68/100\n",
            "27/27 [==============================] - 0s 4ms/step - loss: 3513.2893 - mae: 3513.2893 - mse: 49729532.0000 - val_loss: 3809.3362 - val_mae: 3809.3362 - val_mse: 50349428.0000\n",
            "Epoch 69/100\n",
            "27/27 [==============================] - 0s 4ms/step - loss: 3483.3511 - mae: 3483.3511 - mse: 49328276.0000 - val_loss: 3813.1658 - val_mae: 3813.1663 - val_mse: 50483032.0000\n",
            "Epoch 70/100\n",
            "27/27 [==============================] - 0s 4ms/step - loss: 3444.6641 - mae: 3444.6641 - mse: 47963068.0000 - val_loss: 3811.0750 - val_mae: 3811.0750 - val_mse: 50194596.0000\n",
            "Epoch 71/100\n",
            "27/27 [==============================] - 0s 4ms/step - loss: 3485.1294 - mae: 3485.1294 - mse: 49188380.0000 - val_loss: 3811.4299 - val_mae: 3811.4299 - val_mse: 50129764.0000\n",
            "Epoch 72/100\n",
            "27/27 [==============================] - 0s 4ms/step - loss: 3477.9714 - mae: 3477.9714 - mse: 48739112.0000 - val_loss: 3810.4246 - val_mae: 3810.4246 - val_mse: 49760656.0000\n",
            "Epoch 73/100\n",
            "27/27 [==============================] - 0s 4ms/step - loss: 3439.1970 - mae: 3439.1970 - mse: 47589184.0000 - val_loss: 3807.1519 - val_mae: 3807.1519 - val_mse: 50212176.0000\n",
            "Epoch 74/100\n",
            "27/27 [==============================] - 0s 4ms/step - loss: 3492.9846 - mae: 3492.9846 - mse: 48849400.0000 - val_loss: 3816.8289 - val_mae: 3816.8289 - val_mse: 50369464.0000\n",
            "Epoch 75/100\n",
            "27/27 [==============================] - 0s 5ms/step - loss: 3466.8069 - mae: 3466.8069 - mse: 49081440.0000 - val_loss: 3800.7859 - val_mae: 3800.7859 - val_mse: 50203996.0000\n",
            "Epoch 76/100\n",
            "27/27 [==============================] - 0s 4ms/step - loss: 3474.9836 - mae: 3474.9836 - mse: 48738832.0000 - val_loss: 3812.3601 - val_mae: 3812.3601 - val_mse: 50217128.0000\n",
            "Epoch 77/100\n",
            "27/27 [==============================] - 0s 4ms/step - loss: 3491.4937 - mae: 3491.4937 - mse: 49114936.0000 - val_loss: 3811.0986 - val_mae: 3811.0986 - val_mse: 50076128.0000\n",
            "Epoch 78/100\n",
            "27/27 [==============================] - 0s 4ms/step - loss: 3512.1758 - mae: 3512.1758 - mse: 49207752.0000 - val_loss: 3818.5391 - val_mae: 3818.5391 - val_mse: 50190776.0000\n",
            "Epoch 79/100\n",
            "27/27 [==============================] - 0s 4ms/step - loss: 3550.3794 - mae: 3550.3794 - mse: 50836612.0000 - val_loss: 3813.0193 - val_mae: 3813.0193 - val_mse: 50333072.0000\n",
            "Epoch 80/100\n",
            "27/27 [==============================] - 0s 4ms/step - loss: 3489.7219 - mae: 3489.7219 - mse: 48716608.0000 - val_loss: 3805.5950 - val_mae: 3805.5950 - val_mse: 49931132.0000\n",
            "Epoch 81/100\n",
            "27/27 [==============================] - 0s 4ms/step - loss: 3443.7590 - mae: 3443.7590 - mse: 48428796.0000 - val_loss: 3808.8362 - val_mae: 3808.8362 - val_mse: 50131528.0000\n",
            "Epoch 82/100\n",
            "27/27 [==============================] - 0s 4ms/step - loss: 3428.0884 - mae: 3428.0884 - mse: 47514056.0000 - val_loss: 3811.8760 - val_mae: 3811.8760 - val_mse: 50094972.0000\n",
            "Epoch 83/100\n",
            "27/27 [==============================] - 0s 4ms/step - loss: 3476.8538 - mae: 3476.8538 - mse: 48871080.0000 - val_loss: 3807.2336 - val_mae: 3807.2336 - val_mse: 50564408.0000\n",
            "Epoch 84/100\n",
            "27/27 [==============================] - 0s 5ms/step - loss: 3459.5845 - mae: 3459.5845 - mse: 48972784.0000 - val_loss: 3815.2727 - val_mae: 3815.2727 - val_mse: 50572092.0000\n",
            "Epoch 85/100\n",
            "27/27 [==============================] - 0s 4ms/step - loss: 3480.1470 - mae: 3480.1470 - mse: 48906688.0000 - val_loss: 3806.4150 - val_mae: 3806.4150 - val_mse: 49877552.0000\n",
            "Epoch 86/100\n",
            "27/27 [==============================] - 0s 4ms/step - loss: 3493.3318 - mae: 3493.3318 - mse: 49611904.0000 - val_loss: 3817.6992 - val_mae: 3817.6992 - val_mse: 50161952.0000\n",
            "Epoch 87/100\n",
            "27/27 [==============================] - 0s 4ms/step - loss: 3537.6067 - mae: 3537.6067 - mse: 50490024.0000 - val_loss: 3803.0696 - val_mae: 3803.0696 - val_mse: 50245152.0000\n",
            "Epoch 88/100\n",
            "27/27 [==============================] - 0s 4ms/step - loss: 3519.4238 - mae: 3519.4238 - mse: 49909696.0000 - val_loss: 3810.1033 - val_mae: 3810.1033 - val_mse: 49991656.0000\n",
            "Epoch 89/100\n",
            "27/27 [==============================] - 0s 4ms/step - loss: 3446.5017 - mae: 3446.5017 - mse: 47793868.0000 - val_loss: 3811.1746 - val_mae: 3811.1746 - val_mse: 50208212.0000\n",
            "Epoch 90/100\n",
            "27/27 [==============================] - 0s 4ms/step - loss: 3466.1245 - mae: 3466.1245 - mse: 48733272.0000 - val_loss: 3815.6567 - val_mae: 3815.6567 - val_mse: 50219664.0000\n",
            "Epoch 91/100\n",
            "27/27 [==============================] - 0s 4ms/step - loss: 3438.3418 - mae: 3438.3418 - mse: 47617396.0000 - val_loss: 3811.7947 - val_mae: 3811.7947 - val_mse: 49825720.0000\n",
            "Epoch 92/100\n",
            "27/27 [==============================] - 0s 5ms/step - loss: 3428.6829 - mae: 3428.6829 - mse: 49155388.0000 - val_loss: 3805.6357 - val_mae: 3805.6357 - val_mse: 50644892.0000\n",
            "Epoch 93/100\n",
            "27/27 [==============================] - 0s 4ms/step - loss: 3473.8408 - mae: 3473.8408 - mse: 48587320.0000 - val_loss: 3814.4463 - val_mae: 3814.4463 - val_mse: 50000604.0000\n",
            "Epoch 94/100\n",
            "27/27 [==============================] - 0s 4ms/step - loss: 3476.6091 - mae: 3476.6091 - mse: 48990444.0000 - val_loss: 3816.0369 - val_mae: 3816.0369 - val_mse: 50294132.0000\n",
            "Epoch 95/100\n",
            "27/27 [==============================] - 0s 4ms/step - loss: 3471.3457 - mae: 3471.3457 - mse: 48485684.0000 - val_loss: 3811.9871 - val_mae: 3811.9871 - val_mse: 49924008.0000\n",
            "Epoch 96/100\n",
            "27/27 [==============================] - 0s 4ms/step - loss: 3432.6235 - mae: 3432.6235 - mse: 47882976.0000 - val_loss: 3804.6992 - val_mae: 3804.6992 - val_mse: 50431740.0000\n",
            "Epoch 97/100\n",
            "27/27 [==============================] - 0s 4ms/step - loss: 3483.7327 - mae: 3483.7327 - mse: 48808936.0000 - val_loss: 3805.8674 - val_mae: 3805.8674 - val_mse: 50238712.0000\n",
            "Epoch 98/100\n",
            "27/27 [==============================] - 0s 4ms/step - loss: 3524.8428 - mae: 3524.8428 - mse: 49933504.0000 - val_loss: 3821.1653 - val_mae: 3821.1653 - val_mse: 49964344.0000\n",
            "Epoch 99/100\n",
            "27/27 [==============================] - 0s 4ms/step - loss: 3523.1548 - mae: 3523.1548 - mse: 49899760.0000 - val_loss: 3815.1470 - val_mae: 3815.1470 - val_mse: 49779788.0000\n",
            "Epoch 100/100\n",
            "27/27 [==============================] - 0s 4ms/step - loss: 3500.4106 - mae: 3500.4106 - mse: 49225652.0000 - val_loss: 3810.9485 - val_mae: 3810.9485 - val_mse: 49983496.0000\n"
          ]
        }
      ]
    },
    {
      "cell_type": "code",
      "source": [
        "# Evaluate model\n",
        "loss = model.evaluate(test_dataset, test_labels, verbose=2)"
      ],
      "metadata": {
        "id": "5oEXgyuCTCw5",
        "colab": {
          "base_uri": "https://localhost:8080/"
        },
        "outputId": "5661815d-45dd-4c1a-ac03-8184751b9d8b"
      },
      "execution_count": 13,
      "outputs": [
        {
          "output_type": "stream",
          "name": "stdout",
          "text": [
            "9/9 - 0s - loss: 3126.5120 - mae: 3126.5120 - mse: 43810780.0000 - 30ms/epoch - 3ms/step\n"
          ]
        }
      ]
    },
    {
      "cell_type": "code",
      "metadata": {
        "id": "Xe7RXH3N3CWU",
        "colab": {
          "base_uri": "https://localhost:8080/",
          "height": 335
        },
        "outputId": "bc826fb4-0eeb-4594-b1a5-f1da6e5c0820"
      },
      "source": [
        "# RUN THIS CELL TO TEST YOUR MODEL. DO NOT MODIFY CONTENTS.\n",
        "# Test model by checking how well the model generalizes using the test set.\n",
        "loss, mae, mse = model.evaluate(test_dataset, test_labels, verbose=2)\n",
        "\n",
        "print(\"Testing set Mean Abs Error: {:5.2f} expenses\".format(mae))\n",
        "\n",
        "if mae < 3500:\n",
        "  print(\"You passed the challenge. Great job!\")\n",
        "else:\n",
        "  print(\"The Mean Abs Error must be less than 3500. Keep trying.\")\n",
        "\n",
        "# Plot predictions.\n",
        "test_predictions = model.predict(test_dataset).flatten()\n",
        "\n",
        "a = plt.axes(aspect='equal')\n",
        "plt.scatter(test_labels, test_predictions)\n",
        "plt.xlabel('True values (expenses)')\n",
        "plt.ylabel('Predictions (expenses)')\n",
        "lims = [0, 50000]\n",
        "plt.xlim(lims)\n",
        "plt.ylim(lims)\n",
        "_ = plt.plot(lims,lims)\n"
      ],
      "execution_count": 14,
      "outputs": [
        {
          "output_type": "stream",
          "name": "stdout",
          "text": [
            "9/9 - 0s - loss: 3126.5120 - mae: 3126.5120 - mse: 43810780.0000 - 29ms/epoch - 3ms/step\n",
            "Testing set Mean Abs Error: 3126.51 expenses\n",
            "You passed the challenge. Great job!\n"
          ]
        },
        {
          "output_type": "display_data",
          "data": {
            "text/plain": [
              "<Figure size 432x288 with 1 Axes>"
            ],
            "image/png": "[encoded data removed]"
          },
          "metadata": {
            "needs_background": "light"
          }
        }
      ]
    }
  ]
}